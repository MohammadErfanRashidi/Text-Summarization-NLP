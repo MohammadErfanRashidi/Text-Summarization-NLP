{
  "nbformat": 4,
  "nbformat_minor": 0,
  "metadata": {
    "colab": {
      "provenance": [],
      "authorship_tag": "ABX9TyP3UX/FX92eITaQWwdC7r5R",
      "include_colab_link": true
    },
    "kernelspec": {
      "name": "python3",
      "display_name": "Python 3"
    },
    "language_info": {
      "name": "python"
    }
  },
  "cells": [
    {
      "cell_type": "markdown",
      "metadata": {
        "id": "view-in-github",
        "colab_type": "text"
      },
      "source": [
        "<a href=\"https://colab.research.google.com/github/MohammadErfanRashidi/Text-Summarization-NLP/blob/main/Text_Summarization_NLP.ipynb\" target=\"_parent\"><img src=\"https://colab.research.google.com/assets/colab-badge.svg\" alt=\"Open In Colab\"/></a>"
      ]
    },
    {
      "cell_type": "code",
      "source": [
        "# Install necessary libraries\n",
        "!pip install sumy\n",
        "!pip install nltk\n",
        "\n",
        "# Import necessary libraries\n",
        "from sumy.parsers.plaintext import PlaintextParser\n",
        "from sumy.nlp.tokenizers import Tokenizer\n",
        "from sumy.summarizers.lsa import LsaSummarizer  # You can also use LuhnSummarizer, LexRankSummarizer, etc.\n",
        "\n",
        "# Read text from a .txt file\n",
        "with open(\"your_text_file.txt\", \"r\") as file:\n",
        "    text = file.read()\n",
        "\n",
        "# Create a parser and tokenizer for the text\n",
        "parser = PlaintextParser.from_string(text, Tokenizer(\"english\"))\n",
        "\n",
        "# Use LSA summarizer\n",
        "summarizer = LsaSummarizer()\n",
        "summary = summarizer(parser.document, sentences_count=3)  # Specify the number of sentences you want in the summary\n",
        "\n",
        "# Print the extractive summary\n",
        "print(\"Extractive Summary:\")\n",
        "for sentence in summary:\n",
        "    print(sentence)\n"
      ],
      "metadata": {
        "id": "RcrfiXrSd88_"
      },
      "execution_count": null,
      "outputs": []
    },
    {
      "source": [
        "# Print the extractive summary to a new text file\n",
        "with open(\"summary.txt\", \"w\") as f:\n",
        "    f.write(\"Extractive Summary:\\n\")\n",
        "    for sentence in summary:\n",
        "        f.write(str(sentence) + \"\\n\")"
      ],
      "cell_type": "code",
      "metadata": {
        "id": "XgHQ2GkihHtM"
      },
      "execution_count": 13,
      "outputs": []
    }
  ]
}